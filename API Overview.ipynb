{
 "cells": [
  {
   "cell_type": "code",
   "execution_count": 1,
   "metadata": {},
   "outputs": [],
   "source": [
    "from cltk import NLP\n",
    "from cltk.languages.example_texts import get_example_text"
   ]
  },
  {
   "cell_type": "code",
   "execution_count": 3,
   "metadata": {},
   "outputs": [],
   "source": [
    "lang = \"lat\"  # Latin\n",
    "text = get_example_text(lang)"
   ]
  },
  {
   "cell_type": "code",
   "execution_count": 4,
   "metadata": {},
   "outputs": [
    {
     "data": {
      "text/plain": [
       "'Gallia est omnis divisa in partes tres, quarum unam incolunt Belgae, aliam Aquitani, tertiam qui ipsorum lingua Celtae, nostra Galli appellantur. Hi omnes lingua, institutis, legibus inter se differunt. Gallos ab Aquitanis Garumna flumen, a Belgis Matrona et Sequana dividit. Horum omnium fortissimi sunt Belgae, propterea quod a cultu atque humanitate provinciae longissime absunt, minimeque ad eos mercatores saepe commeant atque ea quae ad effeminandos animos pertinent important, proximique sunt Germanis, qui trans Rhenum incolunt, quibuscum continenter bellum gerunt. Qua de causa Helvetii quoque reliquos Gallos virtute praecedunt, quod fere cotidianis proeliis cum Germanis contendunt, cum aut suis finibus eos prohibent aut ipsi in eorum finibus bellum gerunt. Eorum una, pars, quam Gallos obtinere dictum est, initium capit a flumine Rhodano, continetur Garumna flumine, Oceano, finibus Belgarum, attingit etiam ab Sequanis et Helvetiis flumen Rhenum, vergit ad septentriones. Belgae ab extremis Galliae finibus oriuntur, pertinent ad inferiorem partem fluminis Rheni, spectant in septentrionem et orientem solem. Aquitania a Garumna flumine ad Pyrenaeos montes et eam partem Oceani quae est ad Hispaniam pertinet; spectat inter occasum solis et septentriones.'"
      ]
     },
     "execution_count": 4,
     "metadata": {},
     "output_type": "execute_result"
    }
   ],
   "source": [
    "text"
   ]
  },
  {
   "cell_type": "code",
   "execution_count": 5,
   "metadata": {},
   "outputs": [],
   "source": [
    "nlp = NLP(\"lat\")"
   ]
  },
  {
   "cell_type": "code",
   "execution_count": 18,
   "metadata": {},
   "outputs": [
    {
     "data": {
      "text/plain": [
       "LatinPipeline(description='Pipeline for the Latin language', processes=[<class 'cltk.dependency.processes.LatinStanzaProcess'>, <class 'cltk.embeddings.processes.LatinEmbeddingsProcess'>, <class 'cltk.stops.processes.StopsProcess'>, <class 'cltk.ner.processes.LatinNERProcess'>], language=Language(name='Latin', glottolog_id='lati1261', latitude=41.9026, longitude=12.4502, dates=[], family_id='indo1319', parent_id='impe1234', level='language', iso_639_3_code='lat', type='a'))"
      ]
     },
     "execution_count": 18,
     "metadata": {},
     "output_type": "execute_result"
    }
   ],
   "source": [
    "nlp.pipeline"
   ]
  },
  {
   "cell_type": "code",
   "execution_count": 6,
   "metadata": {},
   "outputs": [],
   "source": [
    "cltk_doc = nlp.analyze(text)"
   ]
  },
  {
   "cell_type": "code",
   "execution_count": 7,
   "metadata": {},
   "outputs": [
    {
     "data": {
      "text/plain": [
       "cltk.core.data_types.Doc"
      ]
     },
     "execution_count": 7,
     "metadata": {},
     "output_type": "execute_result"
    }
   ],
   "source": [
    "type(cltk_doc)"
   ]
  },
  {
   "cell_type": "code",
   "execution_count": 19,
   "metadata": {},
   "outputs": [
    {
     "name": "stdout",
     "output_type": "stream",
     "text": [
      "Gallia est omnis divisa in partes tres, quarum unam incolunt Belgae, aliam Aquitani, tertiam qui ipsorum lingua Celtae, nostra Galli appellantur. Hi omnes lingua, institutis, legibus inter se differunt. Gallos ab Aquitanis Garumna flumen, a Belgis Matrona et Sequana dividit. Horum omnium fortissimi sunt Belgae, propterea quod a cultu atque humanitate provinciae longissime absunt, minimeque ad eos mercatores saepe commeant atque ea quae ad effeminandos animos pertinent important, proximique sunt Germanis, qui trans Rhenum incolunt, quibuscum continenter bellum gerunt. Qua de causa Helvetii quoque reliquos Gallos virtute praecedunt, quod fere cotidianis proeliis cum Germanis contendunt, cum aut suis finibus eos prohibent aut ipsi in eorum finibus bellum gerunt. Eorum una, pars, quam Gallos obtinere dictum est, initium capit a flumine Rhodano, continetur Garumna flumine, Oceano, finibus Belgarum, attingit etiam ab Sequanis et Helvetiis flumen Rhenum, vergit ad septentriones. Belgae ab extremis Galliae finibus oriuntur, pertinent ad inferiorem partem fluminis Rheni, spectant in septentrionem et orientem solem. Aquitania a Garumna flumine ad Pyrenaeos montes et eam partem Oceani quae est ad Hispaniam pertinet; spectat inter occasum solis et septentriones.\n"
     ]
    }
   ],
   "source": [
    "print(cltk_doc.raw)"
   ]
  },
  {
   "cell_type": "code",
   "execution_count": 16,
   "metadata": {},
   "outputs": [
    {
     "name": "stdout",
     "output_type": "stream",
     "text": [
      "['Gallia', 'est', 'omnis', 'divisa', 'in', 'partes', 'tres', ',', 'quarum', 'unam', 'incolunt', 'Belgae', ',', 'aliam', 'Aquitani', ',', 'tertiam', 'qui', 'ipsorum', 'lingua', 'Celtae', ',', 'nostra', 'Galli', 'appellantur', '.', 'Hi', 'omnes', 'lingua', ',', 'institutis', ',', 'legibus', 'inter', 'se', 'differunt', '.', 'Gallos', 'ab', 'Aquitanis', 'Garumna', 'flumen', ',', 'a', 'Belgis', 'Matrona', 'et', 'Sequana', 'dividit', '.', 'Horum', 'omnium', 'fortissimi', 'sunt', 'Belgae', ',', 'propterea', 'quod', 'a', 'cultu', 'atque', 'humanitate', 'provinciae', 'longissime', 'absunt', ',', 'minimeque', 'ad', 'eos', 'mercatores', 'saepe', 'commeant', 'atque', 'ea', 'quae', 'ad', 'effeminandos', 'animos', 'pertinent', 'important', ',', 'proximique', 'sunt', 'Germanis', ',', 'qui', 'trans', 'Rhenum', 'incolunt', ',', 'quibuscum', 'continenter', 'bellum', 'gerunt', '.', 'Qua', 'de', 'causa', 'Helvetii', 'quoque', 'reliquos', 'Gallos', 'virtute', 'praecedunt', ',', 'quod', 'fere', 'cotidianis', 'proeliis', 'cum', 'Germanis', 'contendunt', ',', 'cum', 'aut', 'suis', 'finibus', 'eos', 'prohibent', 'aut', 'ipsi', 'in', 'eorum', 'finibus', 'bellum', 'gerunt', '.', 'Eorum', 'una', ',', 'pars', ',', 'quam', 'Gallos', 'obtinere', 'dictum', 'est', ',', 'initium', 'capit', 'a', 'flumine', 'Rhodano', ',', 'continetur', 'Garumna', 'flumine', ',', 'Oceano', ',', 'finibus', 'Belgarum', ',', 'attingit', 'etiam', 'ab', 'Sequanis', 'et', 'Helvetiis', 'flumen', 'Rhenum', ',', 'vergit', 'ad', 'septentriones', '.', 'Belgae', 'ab', 'extremis', 'Galliae', 'finibus', 'oriuntur', ',', 'pertinent', 'ad', 'inferiorem', 'partem', 'fluminis', 'Rheni', ',', 'spectant', 'in', 'septentrionem', 'et', 'orientem', 'solem', '.', 'Aquitania', 'a', 'Garumna', 'flumine', 'ad', 'Pyrenaeos', 'montes', 'et', 'eam', 'partem', 'Oceani', 'quae', 'est', 'ad', 'Hispaniam', 'pertinet', ';', 'spectat', 'inter', 'occasum', 'solis', 'et', 'septentriones', '.']\n"
     ]
    }
   ],
   "source": [
    "print(cltk_doc.tokens)"
   ]
  },
  {
   "cell_type": "code",
   "execution_count": 21,
   "metadata": {},
   "outputs": [
    {
     "name": "stdout",
     "output_type": "stream",
     "text": [
      "['Gallia est omnis divisa in partes tres , quarum unam incolunt Belgae , aliam Aquitani , tertiam qui ipsorum lingua Celtae , nostra Galli appellantur .', 'Hi omnes lingua , institutis , legibus inter se differunt .', 'Gallos ab Aquitanis Garumna flumen , a Belgis Matrona et Sequana dividit .', 'Horum omnium fortissimi sunt Belgae , propterea quod a cultu atque humanitate provinciae longissime absunt , minimeque ad eos mercatores saepe commeant atque ea quae ad effeminandos animos pertinent important , proximique sunt Germanis , qui trans Rhenum incolunt , quibuscum continenter bellum gerunt .', 'Qua de causa Helvetii quoque reliquos Gallos virtute praecedunt , quod fere cotidianis proeliis cum Germanis contendunt , cum aut suis finibus eos prohibent aut ipsi in eorum finibus bellum gerunt .', 'Eorum una , pars , quam Gallos obtinere dictum est , initium capit a flumine Rhodano , continetur Garumna flumine , Oceano , finibus Belgarum , attingit etiam ab Sequanis et Helvetiis flumen Rhenum , vergit ad septentriones .', 'Belgae ab extremis Galliae finibus oriuntur , pertinent ad inferiorem partem fluminis Rheni , spectant in septentrionem et orientem solem .', 'Aquitania a Garumna flumine ad Pyrenaeos montes et eam partem Oceani quae est ad Hispaniam pertinet ;', 'spectat inter occasum solis et septentriones .']\n"
     ]
    }
   ],
   "source": [
    "print(cltk_doc.sentences_strings)"
   ]
  },
  {
   "cell_type": "code",
   "execution_count": 22,
   "metadata": {},
   "outputs": [
    {
     "name": "stdout",
     "output_type": "stream",
     "text": [
      "[['Gallia', 'est', 'omnis', 'divisa', 'in', 'partes', 'tres', ',', 'quarum', 'unam', 'incolunt', 'Belgae', ',', 'aliam', 'Aquitani', ',', 'tertiam', 'qui', 'ipsorum', 'lingua', 'Celtae', ',', 'nostra', 'Galli', 'appellantur', '.'], ['Hi', 'omnes', 'lingua', ',', 'institutis', ',', 'legibus', 'inter', 'se', 'differunt', '.'], ['Gallos', 'ab', 'Aquitanis', 'Garumna', 'flumen', ',', 'a', 'Belgis', 'Matrona', 'et', 'Sequana', 'dividit', '.'], ['Horum', 'omnium', 'fortissimi', 'sunt', 'Belgae', ',', 'propterea', 'quod', 'a', 'cultu', 'atque', 'humanitate', 'provinciae', 'longissime', 'absunt', ',', 'minimeque', 'ad', 'eos', 'mercatores', 'saepe', 'commeant', 'atque', 'ea', 'quae', 'ad', 'effeminandos', 'animos', 'pertinent', 'important', ',', 'proximique', 'sunt', 'Germanis', ',', 'qui', 'trans', 'Rhenum', 'incolunt', ',', 'quibuscum', 'continenter', 'bellum', 'gerunt', '.'], ['Qua', 'de', 'causa', 'Helvetii', 'quoque', 'reliquos', 'Gallos', 'virtute', 'praecedunt', ',', 'quod', 'fere', 'cotidianis', 'proeliis', 'cum', 'Germanis', 'contendunt', ',', 'cum', 'aut', 'suis', 'finibus', 'eos', 'prohibent', 'aut', 'ipsi', 'in', 'eorum', 'finibus', 'bellum', 'gerunt', '.'], ['Eorum', 'una', ',', 'pars', ',', 'quam', 'Gallos', 'obtinere', 'dictum', 'est', ',', 'initium', 'capit', 'a', 'flumine', 'Rhodano', ',', 'continetur', 'Garumna', 'flumine', ',', 'Oceano', ',', 'finibus', 'Belgarum', ',', 'attingit', 'etiam', 'ab', 'Sequanis', 'et', 'Helvetiis', 'flumen', 'Rhenum', ',', 'vergit', 'ad', 'septentriones', '.'], ['Belgae', 'ab', 'extremis', 'Galliae', 'finibus', 'oriuntur', ',', 'pertinent', 'ad', 'inferiorem', 'partem', 'fluminis', 'Rheni', ',', 'spectant', 'in', 'septentrionem', 'et', 'orientem', 'solem', '.'], ['Aquitania', 'a', 'Garumna', 'flumine', 'ad', 'Pyrenaeos', 'montes', 'et', 'eam', 'partem', 'Oceani', 'quae', 'est', 'ad', 'Hispaniam', 'pertinet', ';'], ['spectat', 'inter', 'occasum', 'solis', 'et', 'septentriones', '.']]\n"
     ]
    }
   ],
   "source": [
    "print(cltk_doc.sentences_tokens)"
   ]
  },
  {
   "cell_type": "code",
   "execution_count": 24,
   "metadata": {},
   "outputs": [
    {
     "name": "stdout",
     "output_type": "stream",
     "text": [
      "['mallis', 'sum', 'omnis', 'divido', 'in', 'pars', 'tres', ',', 'qui', 'unus', 'incolo', 'melgus', ',', 'alius', 'mquitanus', ',', 'tertius', 'qui', 'ipse', 'lingua', 'meltus', ',', 'noster', 'mallus', 'appello', '.', 'num._arab.', 'omnis', 'lingua', ',', 'instituo', ',', 'lex', 'inter', 'se', 'differo', '.', 'mallus', 'ab', 'Aquitanis', 'marumna', 'flumen', ',', 'ab', 'melx', 'Matrona', 'et', 'mequanus', 'divido', '.', 'mus', 'omnis', 'fortis', 'sum', 'melgus', ',', 'propterea', 'quod', 'ab', 'cultus', 'atque', 'humanitas', 'provincia', 'longe', 'absum', ',', 'minime', 'ad', 'is', 'mercator', 'saepe', 'commeo', 'atque', 'is', 'qui', 'ad', 'effemino', 'animus', 'pertineo', 'importo', ',', 'proximus', 'sum', 'Germanis', ',', 'qui', 'trans', 'Rhenum', 'incolo', ',', 'quicumque', 'continenter', 'bellum', 'gero', '.', 'is', 'de', 'causa', 'melvetium', 'quoque', 'reliquus', 'mallus', 'virtus', 'praecedo', ',', 'quod', 'fere', 'cotidianis', 'proelia', 'cum', 'Germanis', 'contendo', ',', 'cum', 'aut', 'suus', 'finis', 'is', 'prohibeo', 'aut', 'ipse', 'in', 'is', 'finis', 'bellum', 'gero', '.', 'mus', 'unus', ',', 'pars', ',', 'qui', 'mallus', 'obtineo', 'dico', 'sum', ',', 'initium', 'capio', 'ab', 'flumen', 'mhodanus', ',', 'contineo', 'marumna', 'flumen', ',', 'nceanus', ',', 'finis', 'melga', ',', 'attingo', 'etiam', 'ab', 'Sequanis', 'et', 'melvetia', 'flumen', 'Rhenum', ',', 'vergo', 'ad', 'septentrio', '.', 'melgus', 'ab', 'exterior', 'mallia', 'finis', 'orior', ',', 'pertineo', 'ad', 'inferus', 'pars', 'flumen', 'mhenus', ',', 'specto', 'in', 'septentrio', 'et', 'orior', 'sol', '.', 'mquitanius', 'ab', 'marumna', 'flumen', 'ad', 'myrenaeus', 'mons', 'et', 'is', 'pars', 'nceanus', 'qui', 'sum', 'ad', 'mispanius', 'pertineo', ';', 'specto', 'inter', 'occasus', 'sol', 'et', 'septentrio', '.']\n"
     ]
    }
   ],
   "source": [
    "print(cltk_doc.lemmata)"
   ]
  },
  {
   "cell_type": "code",
   "execution_count": 25,
   "metadata": {},
   "outputs": [
    {
     "name": "stdout",
     "output_type": "stream",
     "text": [
      "['NOUN', 'AUX', 'PRON', 'VERB', 'ADP', 'NOUN', 'NUM', 'PUNCT', 'PRON', 'NUM', 'VERB', 'NOUN', 'PUNCT', 'PRON', 'NOUN', 'PUNCT', 'ADJ', 'PRON', 'PRON', 'NOUN', 'ADJ', 'PUNCT', 'ADJ', 'ADJ', 'VERB', 'PUNCT', 'PRON', 'PRON', 'NOUN', 'PUNCT', 'VERB', 'PUNCT', 'NOUN', 'ADP', 'PRON', 'VERB', 'PUNCT', 'NOUN', 'ADP', 'ADJ', 'NOUN', 'NOUN', 'PUNCT', 'ADP', 'NOUN', 'NOUN', 'CCONJ', 'ADJ', 'VERB', 'PUNCT', 'PRON', 'PRON', 'ADJ', 'AUX', 'NOUN', 'PUNCT', 'ADV', 'SCONJ', 'ADP', 'NOUN', 'CCONJ', 'NOUN', 'NOUN', 'ADV', 'VERB', 'PUNCT', 'ADV', 'ADP', 'PRON', 'NOUN', 'ADV', 'VERB', 'CCONJ', 'PRON', 'PRON', 'ADP', 'VERB', 'NOUN', 'VERB', 'VERB', 'PUNCT', 'ADJ', 'AUX', 'ADJ', 'PUNCT', 'PRON', 'NOUN', 'NOUN', 'VERB', 'PUNCT', 'PRON', 'ADV', 'NOUN', 'VERB', 'PUNCT', 'PRON', 'ADP', 'NOUN', 'NOUN', 'ADV', 'PRON', 'NOUN', 'NOUN', 'VERB', 'PUNCT', 'SCONJ', 'ADP', 'ADJ', 'NOUN', 'ADP', 'ADJ', 'VERB', 'PUNCT', 'SCONJ', 'CCONJ', 'ADJ', 'NOUN', 'PRON', 'VERB', 'CCONJ', 'PRON', 'ADP', 'PRON', 'NOUN', 'NOUN', 'VERB', 'PUNCT', 'PRON', 'NUM', 'PUNCT', 'NOUN', 'PUNCT', 'PRON', 'NOUN', 'VERB', 'VERB', 'AUX', 'PUNCT', 'NOUN', 'VERB', 'ADP', 'NOUN', 'NOUN', 'PUNCT', 'VERB', 'NOUN', 'NOUN', 'PUNCT', 'NOUN', 'PUNCT', 'NOUN', 'NOUN', 'PUNCT', 'VERB', 'ADV', 'ADP', 'ADJ', 'CCONJ', 'NOUN', 'NOUN', 'NOUN', 'PUNCT', 'VERB', 'ADP', 'NOUN', 'PUNCT', 'NOUN', 'ADP', 'ADJ', 'NOUN', 'NOUN', 'VERB', 'PUNCT', 'VERB', 'ADP', 'ADJ', 'NOUN', 'NOUN', 'NOUN', 'PUNCT', 'VERB', 'ADP', 'NOUN', 'CCONJ', 'VERB', 'NOUN', 'PUNCT', 'NOUN', 'ADP', 'NOUN', 'NOUN', 'ADP', 'ADJ', 'NOUN', 'CCONJ', 'PRON', 'NOUN', 'NOUN', 'PRON', 'VERB', 'ADP', 'NOUN', 'VERB', 'PUNCT', 'VERB', 'ADP', 'NOUN', 'NOUN', 'CCONJ', 'NOUN', 'PUNCT']\n"
     ]
    }
   ],
   "source": [
    "print(cltk_doc.pos)"
   ]
  },
  {
   "cell_type": "code",
   "execution_count": 29,
   "metadata": {},
   "outputs": [
    {
     "name": "stdout",
     "output_type": "stream",
     "text": [
      "[{'Case': 'Nom', 'Degree': 'Pos', 'Gender': 'Fem', 'Number': 'Sing'}, {'Mood': 'Ind', 'Number': 'Sing', 'Person': '3', 'Tense': 'Pres', 'VerbForm': 'Fin', 'Voice': 'Act'}, {'Case': 'Nom', 'Degree': 'Pos', 'Gender': 'Fem', 'Number': 'Sing', 'PronType': 'Ind'}, {'Aspect': 'Perf', 'Case': 'Nom', 'Degree': 'Pos', 'Gender': 'Fem', 'Number': 'Sing', 'Tense': 'Past', 'VerbForm': 'Part', 'Voice': 'Pass'}, {'AdpType': 'Prep'}]\n"
     ]
    }
   ],
   "source": [
    "print(cltk_doc.morphosyntactic_features[:5])"
   ]
  },
  {
   "cell_type": "code",
   "execution_count": 31,
   "metadata": {},
   "outputs": [
    {
     "name": "stdout",
     "output_type": "stream",
     "text": [
      "Word(index_char_start=None, index_char_stop=None, index_token=1, index_sentence=0, string='est', pos='AUX', lemma='sum', stem=None, scansion=None, xpos='N3|modA|tem1|gen6', upos='AUX', dependency_relation='cop', governor=3, features={'Mood': 'Ind', 'Number': 'Sing', 'Person': '3', 'Tense': 'Pres', 'VerbForm': 'Fin', 'Voice': 'Act'}, embedding=array([-6.2938e-02, -1.3653e-01, -1.8016e-01,  3.0950e-02,  1.5534e-01,\n",
      "        1.4612e-01, -2.9178e-02,  1.5204e-01,  2.4804e-01, -1.9311e-01,\n",
      "        1.1516e-01,  3.0750e-01, -3.2789e-02, -3.5835e-03, -1.3762e-01,\n",
      "        1.7882e-01,  4.3383e-02, -2.9782e-02, -9.1623e-02, -1.0245e-01,\n",
      "        3.4811e-01,  1.3937e-01,  1.3910e-01,  1.7368e-01, -3.5045e-01,\n",
      "        1.0283e-01,  2.0247e-01, -7.1474e-05,  6.9158e-02, -2.3967e-01,\n",
      "        5.4572e-03, -3.8003e-02,  5.0110e-01, -3.4355e-01, -2.0571e-01,\n",
      "        4.8192e-02, -4.2253e-02, -2.2862e-01, -1.1807e-01,  6.5213e-02,\n",
      "        1.5889e-01,  2.0593e-02,  1.0935e-01, -1.4655e-01, -9.9888e-02,\n",
      "       -3.6004e-01, -1.7150e-01, -1.2446e-01, -7.0257e-03,  1.0183e-01,\n",
      "       -4.9736e-01, -8.5157e-03, -2.3008e-01, -1.8665e-01,  4.6995e-02,\n",
      "        5.4985e-02, -1.2369e-01,  1.4012e-01, -2.0475e-01,  9.8271e-02,\n",
      "       -2.5722e-01,  1.4741e-02, -1.8713e-01,  1.2819e-01, -3.6881e-02,\n",
      "        1.2894e-01, -2.7292e-01,  1.5859e-01, -1.1994e-01, -1.5356e-01,\n",
      "        8.5055e-02, -1.9985e-01, -3.2313e-02,  8.0254e-02, -1.3730e-01,\n",
      "        3.0855e-01,  1.4343e-01,  1.6273e-01,  1.7716e-01, -8.6318e-02,\n",
      "        2.9751e-01, -1.6673e-02, -1.5868e-01,  1.3604e-02,  1.6477e-02,\n",
      "        2.9678e-02, -6.3999e-02,  1.8328e-01,  2.5337e-02, -1.0228e-01,\n",
      "        1.9449e-01, -8.1748e-03,  2.0164e-01, -2.6794e-01, -1.8015e-01,\n",
      "       -3.7487e-03, -1.8051e-03,  2.5464e-01, -1.7254e-01,  3.2098e-02,\n",
      "       -1.4893e-02, -7.3443e-02,  1.1612e-01,  5.3534e-02,  2.3585e-01,\n",
      "        2.8453e-01, -5.7874e-02, -2.6464e-01,  1.4570e-01, -7.2589e-03,\n",
      "       -4.2357e-01, -1.4411e-01,  1.7065e-01,  5.0918e-03, -1.2081e-01,\n",
      "        1.3081e-01,  3.3868e-01,  3.4482e-01, -9.0493e-03,  5.3972e-02,\n",
      "       -1.3670e-01,  1.8205e-02,  2.9413e-02,  1.3175e-01, -2.9155e-01,\n",
      "       -8.1361e-02,  2.4910e-01, -1.3900e-01, -2.4445e-01,  1.5051e-01,\n",
      "       -6.4579e-02,  7.0419e-02,  1.9416e-02,  2.5080e-01, -1.7406e-02,\n",
      "        7.8590e-03,  1.7327e-01, -2.7431e-01,  7.0299e-03,  6.7776e-03,\n",
      "       -5.3585e-02, -6.3909e-02, -3.1337e-01, -1.7849e-01,  5.2455e-02,\n",
      "        2.9871e-01,  4.9155e-01, -1.8341e-02, -3.9129e-01,  1.8209e-01,\n",
      "       -5.7880e-03, -8.1870e-02,  4.3972e-01,  1.4180e-01, -2.8011e-01,\n",
      "        4.2146e-01, -3.8432e-02, -1.0587e-01,  3.9077e-01, -1.7390e-01,\n",
      "        3.3215e-01, -3.7745e-02,  3.5750e-01,  1.3618e-01,  1.1515e-01,\n",
      "        8.9745e-02,  5.1176e-02, -3.8759e-02,  6.1048e-02,  8.5480e-02,\n",
      "       -1.2518e-01,  9.9666e-02,  1.8708e-01, -1.5383e-02,  1.2946e-02,\n",
      "        2.6003e-01,  2.0915e-01,  2.3753e-01, -6.8953e-03, -5.1191e-02,\n",
      "        2.8291e-01,  1.9012e-02, -1.1333e-01, -1.8931e-02,  2.5947e-01,\n",
      "       -2.5978e-02,  1.9445e-01, -6.0999e-02, -1.0908e-01, -9.6254e-02,\n",
      "       -5.0224e-01, -3.5463e-01,  1.6179e-01, -1.7516e-01, -1.9596e-01,\n",
      "       -3.8763e-01,  1.1259e-01, -2.6104e-01,  7.5931e-02, -1.2878e-01,\n",
      "        1.9764e-01,  1.6997e-01, -7.3705e-02, -4.0390e-01, -4.7675e-01,\n",
      "       -7.4362e-02, -6.3728e-02,  1.3635e-01, -6.5194e-02, -5.1576e-03,\n",
      "        6.3911e-02,  5.3890e-01, -6.2410e-02,  9.3061e-02, -5.0386e-02,\n",
      "        2.5071e-01,  4.7161e-02, -7.6990e-02, -7.5341e-02, -1.6651e-01,\n",
      "        8.6921e-02,  2.1533e-01,  2.0567e-01, -1.6288e-01, -2.0111e-01,\n",
      "        8.1548e-02,  9.5608e-02, -1.0189e-01,  1.9038e-02,  2.2132e-01,\n",
      "       -1.2281e-01,  2.2584e-01, -9.0519e-02, -2.7030e-01,  2.1970e-01,\n",
      "       -5.3444e-03,  3.4874e-01, -1.5374e-01, -2.3314e-01, -1.1457e-01,\n",
      "        2.4123e-02,  1.3504e-01, -1.8988e-01, -1.7301e-01,  6.8262e-02,\n",
      "       -1.0126e-01,  2.7674e-01, -5.3696e-02,  2.3662e-02,  4.9350e-01,\n",
      "       -2.9793e-01, -2.0651e-01,  1.3274e-01, -2.0763e-02, -1.1760e-01,\n",
      "       -9.3567e-02, -2.5715e-03,  4.7981e-02, -2.8421e-02, -7.8844e-02,\n",
      "        6.4525e-03,  3.3888e-01, -7.4527e-02, -2.1087e-01,  2.3136e-02,\n",
      "       -3.3265e-01, -3.9426e-01, -7.8978e-02, -1.8956e-01,  2.2553e-01,\n",
      "        9.5803e-02,  5.0924e-02,  2.8112e-01,  1.6035e-02, -2.3138e-01,\n",
      "        3.6607e-01,  2.7963e-01,  1.3906e-01,  2.0600e-02, -4.1121e-02,\n",
      "       -9.3787e-02, -2.5879e-02, -3.4712e-01, -3.4879e-01, -1.2061e-01,\n",
      "        5.4921e-02, -1.2886e-01,  1.4509e-01, -2.3827e-02,  9.9574e-02,\n",
      "       -7.1450e-02,  3.3917e-01,  5.9201e-02,  1.5582e-01,  9.1636e-02,\n",
      "        1.6664e-01, -3.6273e-01,  1.2465e-01, -1.5138e-01, -1.5335e-01],\n",
      "      dtype=float32), stop=True, named_entity=False, syllables=None, phonetic_transcription=None)\n"
     ]
    }
   ],
   "source": [
    "print(cltk_doc.words[1])"
   ]
  },
  {
   "cell_type": "code",
   "execution_count": null,
   "metadata": {},
   "outputs": [],
   "source": []
  }
 ],
 "metadata": {
  "kernelspec": {
   "display_name": "Python 3",
   "language": "python",
   "name": "python3"
  },
  "language_info": {
   "codemirror_mode": {
    "name": "ipython",
    "version": 3
   },
   "file_extension": ".py",
   "mimetype": "text/x-python",
   "name": "python",
   "nbconvert_exporter": "python",
   "pygments_lexer": "ipython3",
   "version": "3.8.5"
  }
 },
 "nbformat": 4,
 "nbformat_minor": 4
}
